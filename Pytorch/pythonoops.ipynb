{
 "cells": [
  {
   "cell_type": "markdown",
   "id": "60e9abbd",
   "metadata": {},
   "source": [
    "## Python Class and Objects"
   ]
  },
  {
   "cell_type": "markdown",
   "id": "e676c6dc",
   "metadata": {},
   "source": [
    "A class is a blueprint or a template for creating objects, providing initial values for state\n",
    "(member variables or attributes), and implementations of behavior (member functions\n",
    "or methods). The user-defined objects are created using the class keyword."
   ]
  },
  {
   "cell_type": "markdown",
   "id": "ea2a3d4d",
   "metadata": {},
   "source": [
    "```python\n",
    "class Person:\n",
    "    name = \"Vedant\"\n",
    "    age = 20"
   ]
  },
  {
   "cell_type": "markdown",
   "id": "3eae89e7",
   "metadata": {},
   "source": [
    "Note that indententation is very important in Python. The code inside the class is indented. There is no curly braces or begin/end keywords like in some other languages."
   ]
  },
  {
   "cell_type": "markdown",
   "id": "9ba0d981",
   "metadata": {},
   "source": [
    "### Self Parameter"
   ]
  },
  {
   "cell_type": "markdown",
   "id": "71f90123",
   "metadata": {},
   "source": [
    "The self parameter is a reference to the current instance of the class, and is used to access variables that belongs to the class."
   ]
  },
  {
   "cell_type": "code",
   "execution_count": 7,
   "id": "be110ee8",
   "metadata": {},
   "outputs": [
    {
     "name": "stdout",
     "output_type": "stream",
     "text": [
      "Name: Vedant, Age: 20\n",
      "Name: Vedant Pahariya, Age: 19\n"
     ]
    }
   ],
   "source": [
    "class person:\n",
    "    name = \"Vedant\"\n",
    "    age = 20\n",
    "\n",
    "    def info(self):\n",
    "        print(f\"Name: {self.name}, Age: {self.age}\")\n",
    "    # Here we define function info() inside the class person. \n",
    "\n",
    "p = person()\n",
    "# Here, p is an object (or instance) of the class 'person'.\n",
    "p.info()\n",
    "# This will class the function info() of person class.\n",
    "\n",
    "p.name = \"Vedant Pahariya\"\n",
    "p.age = 19\n",
    "# This will update the attributes (member variables) of the object 'p'.\n",
    "\n",
    "p.info()"
   ]
  },
  {
   "cell_type": "markdown",
   "id": "8977ce9f",
   "metadata": {},
   "source": [
    "### Constructor"
   ]
  },
  {
   "cell_type": "markdown",
   "id": "4723861e",
   "metadata": {},
   "source": [
    "A constructor is a unique function that gets called automatically when an Object is created of a class. The main purpose of a constructor is to initialize or assign values to the data members of that class. It cannot\n",
    "return any value other than None. \n",
    "\n",
    "There is special name of this method which is `__init__()`"
   ]
  },
  {
   "cell_type": "code",
   "execution_count": 8,
   "id": "0c1362d5",
   "metadata": {},
   "outputs": [
    {
     "name": "stdout",
     "output_type": "stream",
     "text": [
      "Name: Vedant, Age: 20\n"
     ]
    }
   ],
   "source": [
    "class Person:\n",
    "    def __init__(self, name, age):\n",
    "        self.name = name\n",
    "        self.age = age\n",
    "    # This is the constructor of the class Person. It initializes the attributes 'name' and 'age' when an object is created.\n",
    "\n",
    "    def info(self):\n",
    "        print(f\"Name: {self.name}, Age: {self.age}\")\n",
    "\n",
    "p1 = Person(\"Vedant\", 20)\n",
    "p1.info()"
   ]
  },
  {
   "cell_type": "markdown",
   "id": "0e18acb4",
   "metadata": {},
   "source": [
    "When the instance p1 is created, the `__init__` method is called automatically. The `self` parameter refers to the instance being created, allowing you to set attributes like `name` and `age`.\n",
    "\n",
    "We don't write the `self` parameter when we call the method, it is __automatically__ passed by Python.\n"
   ]
  },
  {
   "cell_type": "markdown",
   "id": "24c38cdf",
   "metadata": {},
   "source": [
    "## Inheritance"
   ]
  },
  {
   "cell_type": "markdown",
   "id": "a35d14a2",
   "metadata": {},
   "source": [
    "When a class derives from another class. The child class will inherit all the public and protected properties and methods from the parent class. In addition, it can have its own properties and methods, this is called as inheritance."
   ]
  },
  {
   "cell_type": "markdown",
   "id": "0800d9b1",
   "metadata": {},
   "source": [
    "It uses special keyword `super()` to access the functions of the parent class inside the child class."
   ]
  },
  {
   "cell_type": "code",
   "execution_count": 17,
   "id": "a597d9e6",
   "metadata": {},
   "outputs": [
    {
     "name": "stdout",
     "output_type": "stream",
     "text": [
      "Name: Vedant, Salary: 1Cr\n",
      "Department: HR\n"
     ]
    }
   ],
   "source": [
    "class Employee:\n",
    "    def __init__(self, name, salary):\n",
    "        self.name = name\n",
    "        self.salary = salary\n",
    "\n",
    "    def info(self):\n",
    "        print(f\"Name: {self.name}, Salary: {self.salary}\")\n",
    "\n",
    "E1 = Employee(\"Vedant\", \"1Cr\")\n",
    "# E1.info()\n",
    "\n",
    "# Defining a child class\n",
    "class Manager(Employee):\n",
    "    def __init__(self, name, salary, department):\n",
    "        super().__init__(name, salary)  # Call the parent class constructor\n",
    "        self.department = department\n",
    "\n",
    "    def info(self):\n",
    "        super().info()\n",
    "        print(f\"Department: {self.department}\")\n",
    "\n",
    "M1 = Manager(\"Vedant\", \"1Cr\", \"HR\")\n",
    "M1.info()\n",
    "# The Manager class inherits from the Employee class. It adds a new attribute 'department' and overrides the 'info' method to include department information."
   ]
  }
 ],
 "metadata": {
  "kernelspec": {
   "display_name": "MachineLearning",
   "language": "python",
   "name": "python3"
  },
  "language_info": {
   "codemirror_mode": {
    "name": "ipython",
    "version": 3
   },
   "file_extension": ".py",
   "mimetype": "text/x-python",
   "name": "python",
   "nbconvert_exporter": "python",
   "pygments_lexer": "ipython3",
   "version": "3.12.3"
  }
 },
 "nbformat": 4,
 "nbformat_minor": 5
}
