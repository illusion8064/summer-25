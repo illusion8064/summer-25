{
 "cells": [
  {
   "cell_type": "markdown",
   "metadata": {},
   "source": [
    "This notebook contains all relevant functions related to Tensor in PyTorch."
   ]
  },
  {
   "cell_type": "code",
   "execution_count": null,
   "metadata": {
    "colab": {
     "base_uri": "https://localhost:8080/"
    },
    "executionInfo": {
     "elapsed": 7749,
     "status": "ok",
     "timestamp": 1750270509797,
     "user": {
      "displayName": "Vedant Pahariya",
      "userId": "04527001966652937994"
     },
     "user_tz": -330
    },
    "id": "_JNdJ36EWGQg",
    "outputId": "097eb65f-b11e-4293-dcba-2d98aed95112"
   },
   "outputs": [
    {
     "name": "stdout",
     "output_type": "stream",
     "text": [
      "2.6.0+cu124\n"
     ]
    }
   ],
   "source": [
    "import torch\n",
    "print(torch.__version__)"
   ]
  },
  {
   "cell_type": "code",
   "execution_count": null,
   "metadata": {
    "colab": {
     "base_uri": "https://localhost:8080/"
    },
    "executionInfo": {
     "elapsed": 52,
     "status": "ok",
     "timestamp": 1750270509838,
     "user": {
      "displayName": "Vedant Pahariya",
      "userId": "04527001966652937994"
     },
     "user_tz": -330
    },
    "id": "7Rzg58g6WkNC",
    "outputId": "a4365e37-290f-4a03-9d82-12a52bf06a44"
   },
   "outputs": [
    {
     "name": "stdout",
     "output_type": "stream",
     "text": [
      "GPU not available. Using CPU. \n"
     ]
    }
   ],
   "source": [
    "if torch.cuda.is_available():\n",
    "  print(\"GPU is available!\" )\n",
    "  print(f\"Using GPU: {torch.cuda.get_device_name(0)}\")\n",
    "else:\n",
    "  print(\"GPU not available. Using CPU. \")"
   ]
  },
  {
   "cell_type": "markdown",
   "metadata": {
    "id": "-46J5eaTSwsn"
   },
   "source": [
    "## Functions in PyTorch"
   ]
  },
  {
   "cell_type": "code",
   "execution_count": null,
   "metadata": {
    "colab": {
     "base_uri": "https://localhost:8080/"
    },
    "executionInfo": {
     "elapsed": 37,
     "status": "ok",
     "timestamp": 1750270509879,
     "user": {
      "displayName": "Vedant Pahariya",
      "userId": "04527001966652937994"
     },
     "user_tz": -330
    },
    "id": "qow9woJhSwNl",
    "outputId": "2ff39073-e5b5-4d2a-d03a-1a00e0f22cf9"
   },
   "outputs": [
    {
     "data": {
      "text/plain": [
       "torch.Tensor"
      ]
     },
     "execution_count": 3,
     "metadata": {},
     "output_type": "execute_result"
    }
   ],
   "source": [
    "a = torch.empty(2,3)\n",
    "type(a)"
   ]
  },
  {
   "cell_type": "code",
   "execution_count": null,
   "metadata": {
    "colab": {
     "base_uri": "https://localhost:8080/"
    },
    "executionInfo": {
     "elapsed": 223,
     "status": "ok",
     "timestamp": 1750270510106,
     "user": {
      "displayName": "Vedant Pahariya",
      "userId": "04527001966652937994"
     },
     "user_tz": -330
    },
    "id": "c-UGtp-yTCr0",
    "outputId": "62ad4eb2-aa64-458e-bcf4-53875ab54fbe"
   },
   "outputs": [
    {
     "data": {
      "text/plain": [
       "tensor([[0., 0., 0.],\n",
       "        [0., 0., 0.]])"
      ]
     },
     "execution_count": 4,
     "metadata": {},
     "output_type": "execute_result"
    }
   ],
   "source": [
    "torch.zeros(2,3)"
   ]
  },
  {
   "cell_type": "code",
   "execution_count": null,
   "metadata": {
    "colab": {
     "base_uri": "https://localhost:8080/"
    },
    "executionInfo": {
     "elapsed": 229,
     "status": "ok",
     "timestamp": 1750270510339,
     "user": {
      "displayName": "Vedant Pahariya",
      "userId": "04527001966652937994"
     },
     "user_tz": -330
    },
    "id": "Z9-L2a5-TYxF",
    "outputId": "277c6244-5266-4347-bf52-90815795f5d6"
   },
   "outputs": [
    {
     "data": {
      "text/plain": [
       "tensor([[1., 1., 1.],\n",
       "        [1., 1., 1.]])"
      ]
     },
     "execution_count": 5,
     "metadata": {},
     "output_type": "execute_result"
    }
   ],
   "source": [
    "torch.ones(2,3)"
   ]
  },
  {
   "cell_type": "code",
   "execution_count": null,
   "metadata": {
    "colab": {
     "base_uri": "https://localhost:8080/"
    },
    "executionInfo": {
     "elapsed": 15,
     "status": "ok",
     "timestamp": 1750270510360,
     "user": {
      "displayName": "Vedant Pahariya",
      "userId": "04527001966652937994"
     },
     "user_tz": -330
    },
    "id": "b4OyKr1mTYe_",
    "outputId": "d871a370-3766-4865-bb25-e0aa6d335282"
   },
   "outputs": [
    {
     "data": {
      "text/plain": [
       "tensor([[0.8785, 0.1277, 0.5230],\n",
       "        [0.5595, 0.7629, 0.2807]])"
      ]
     },
     "execution_count": 6,
     "metadata": {},
     "output_type": "execute_result"
    }
   ],
   "source": [
    "torch.rand(2,3)\n",
    "# Random numbers between 0 and 1"
   ]
  },
  {
   "cell_type": "code",
   "execution_count": null,
   "metadata": {
    "colab": {
     "base_uri": "https://localhost:8080/"
    },
    "executionInfo": {
     "elapsed": 36,
     "status": "ok",
     "timestamp": 1750270510400,
     "user": {
      "displayName": "Vedant Pahariya",
      "userId": "04527001966652937994"
     },
     "user_tz": -330
    },
    "id": "VTPPNf7h6gv4",
    "outputId": "58aec763-7058-459e-b5cb-74ceb4a5569b"
   },
   "outputs": [
    {
     "name": "stdout",
     "output_type": "stream",
     "text": [
      "tensor([0, 1, 2, 3, 4, 5, 6, 7, 8, 9])\n",
      "tensor([0, 3, 6, 9])\n",
      "tensor([ 1.,  2.,  3.,  4.,  5.,  6.,  7.,  8.,  9., 10.])\n"
     ]
    }
   ],
   "source": [
    "print(torch.arange(0,10)) # Generates numbers from 0 to 10 with increment of 1\n",
    "print(torch.arange(0,10,3)) # Generates numbers from 0 to 10 with increment of 3\n",
    "\n",
    "print(torch.linspace(1,10,10)) # Generates 10 equidistant numbers from 1 to 10"
   ]
  },
  {
   "cell_type": "code",
   "execution_count": null,
   "metadata": {
    "colab": {
     "base_uri": "https://localhost:8080/"
    },
    "executionInfo": {
     "elapsed": 17,
     "status": "ok",
     "timestamp": 1750270510403,
     "user": {
      "displayName": "Vedant Pahariya",
      "userId": "04527001966652937994"
     },
     "user_tz": -330
    },
    "id": "k5rY1B_58YgN",
    "outputId": "60e02ed5-b8c4-4dc1-f939-b4b23bbe48a1"
   },
   "outputs": [
    {
     "data": {
      "text/plain": [
       "tensor([[1., 0., 0., 0., 0.],\n",
       "        [0., 1., 0., 0., 0.],\n",
       "        [0., 0., 1., 0., 0.],\n",
       "        [0., 0., 0., 1., 0.],\n",
       "        [0., 0., 0., 0., 1.]])"
      ]
     },
     "execution_count": 8,
     "metadata": {},
     "output_type": "execute_result"
    }
   ],
   "source": [
    "torch.eye(5) # eye is for Identity Matrix"
   ]
  },
  {
   "cell_type": "code",
   "execution_count": null,
   "metadata": {
    "colab": {
     "base_uri": "https://localhost:8080/"
    },
    "executionInfo": {
     "elapsed": 21,
     "status": "ok",
     "timestamp": 1750270510426,
     "user": {
      "displayName": "Vedant Pahariya",
      "userId": "04527001966652937994"
     },
     "user_tz": -330
    },
    "id": "wVGZLWjK8YaH",
    "outputId": "b36c0288-7ab6-4ec0-ed0b-66eef6a3d4a7"
   },
   "outputs": [
    {
     "data": {
      "text/plain": [
       "tensor([[5, 5, 5],\n",
       "        [5, 5, 5],\n",
       "        [5, 5, 5]])"
      ]
     },
     "execution_count": 9,
     "metadata": {},
     "output_type": "execute_result"
    }
   ],
   "source": [
    "torch.full((3,3),5)"
   ]
  },
  {
   "cell_type": "markdown",
   "metadata": {
    "id": "5r1AxWr6Dgp0"
   },
   "source": [
    "## Tensor Shapes"
   ]
  },
  {
   "cell_type": "code",
   "execution_count": null,
   "metadata": {
    "colab": {
     "base_uri": "https://localhost:8080/"
    },
    "executionInfo": {
     "elapsed": 23,
     "status": "ok",
     "timestamp": 1750270510447,
     "user": {
      "displayName": "Vedant Pahariya",
      "userId": "04527001966652937994"
     },
     "user_tz": -330
    },
    "id": "2Y5_WwdTDkMK",
    "outputId": "076e4ba7-a7ab-4c73-da9d-e45fef23107a"
   },
   "outputs": [
    {
     "data": {
      "text/plain": [
       "tensor([[1, 2, 3],\n",
       "        [4, 5, 6]])"
      ]
     },
     "execution_count": 10,
     "metadata": {},
     "output_type": "execute_result"
    }
   ],
   "source": [
    "x= torch.tensor([[1,2,3],[4,5,6]])\n",
    "x"
   ]
  },
  {
   "cell_type": "code",
   "execution_count": null,
   "metadata": {
    "colab": {
     "base_uri": "https://localhost:8080/"
    },
    "executionInfo": {
     "elapsed": 72,
     "status": "ok",
     "timestamp": 1750270510523,
     "user": {
      "displayName": "Vedant Pahariya",
      "userId": "04527001966652937994"
     },
     "user_tz": -330
    },
    "id": "d8EVGmY2Ssdj",
    "outputId": "f318d13b-398a-4cb6-d750-21d00903efff"
   },
   "outputs": [
    {
     "data": {
      "text/plain": [
       "torch.Size([2, 3])"
      ]
     },
     "execution_count": 11,
     "metadata": {},
     "output_type": "execute_result"
    }
   ],
   "source": [
    "x.shape"
   ]
  },
  {
   "cell_type": "code",
   "execution_count": null,
   "metadata": {
    "colab": {
     "base_uri": "https://localhost:8080/"
    },
    "executionInfo": {
     "elapsed": 36,
     "status": "ok",
     "timestamp": 1750270510525,
     "user": {
      "displayName": "Vedant Pahariya",
      "userId": "04527001966652937994"
     },
     "user_tz": -330
    },
    "id": "CJgVFx5lS7jz",
    "outputId": "cb8d17ed-1bc4-4340-ae73-e0bf0218a41d"
   },
   "outputs": [
    {
     "data": {
      "text/plain": [
       "tensor([[2459029315949257070, 7308604897285731189, 8319104481851616290],\n",
       "        [3756600473238269801, 3258464716185821748, 3919314944490222389]])"
      ]
     },
     "execution_count": 12,
     "metadata": {},
     "output_type": "execute_result"
    }
   ],
   "source": [
    "torch.empty_like(x)"
   ]
  },
  {
   "cell_type": "code",
   "execution_count": null,
   "metadata": {
    "colab": {
     "base_uri": "https://localhost:8080/"
    },
    "executionInfo": {
     "elapsed": 21,
     "status": "ok",
     "timestamp": 1750270510527,
     "user": {
      "displayName": "Vedant Pahariya",
      "userId": "04527001966652937994"
     },
     "user_tz": -330
    },
    "id": "2Jt8uznCW_QI",
    "outputId": "0eb97479-591b-4002-849d-c98a914dab87"
   },
   "outputs": [
    {
     "data": {
      "text/plain": [
       "tensor([[0, 0, 0],\n",
       "        [0, 0, 0]])"
      ]
     },
     "execution_count": 13,
     "metadata": {},
     "output_type": "execute_result"
    }
   ],
   "source": [
    "torch.zeros_like(x)"
   ]
  },
  {
   "cell_type": "code",
   "execution_count": null,
   "metadata": {
    "colab": {
     "base_uri": "https://localhost:8080/"
    },
    "executionInfo": {
     "elapsed": 56,
     "status": "ok",
     "timestamp": 1750270510584,
     "user": {
      "displayName": "Vedant Pahariya",
      "userId": "04527001966652937994"
     },
     "user_tz": -330
    },
    "id": "_JMWaeRnXLLi",
    "outputId": "3a0147af-1722-4819-f8a0-fa4dd51a7ff0"
   },
   "outputs": [
    {
     "data": {
      "text/plain": [
       "tensor([[1, 1, 1],\n",
       "        [1, 1, 1]])"
      ]
     },
     "execution_count": 14,
     "metadata": {},
     "output_type": "execute_result"
    }
   ],
   "source": [
    "torch.ones_like(x)"
   ]
  },
  {
   "cell_type": "code",
   "execution_count": null,
   "metadata": {
    "colab": {
     "base_uri": "https://localhost:8080/"
    },
    "executionInfo": {
     "elapsed": 34,
     "status": "ok",
     "timestamp": 1750270510615,
     "user": {
      "displayName": "Vedant Pahariya",
      "userId": "04527001966652937994"
     },
     "user_tz": -330
    },
    "id": "L8oo9E5gdL5Y",
    "outputId": "b20a98f8-aeef-44e8-8b78-e506617d34fa"
   },
   "outputs": [
    {
     "data": {
      "text/plain": [
       "tensor([[0.3792, 0.1184, 0.8908],\n",
       "        [0.5249, 0.9299, 0.0257]])"
      ]
     },
     "execution_count": 15,
     "metadata": {},
     "output_type": "execute_result"
    }
   ],
   "source": [
    "torch.rand_like(x, dtype=torch.float32)\n",
    "# This will give error if we don't mention the data type explicitly becuase x is of int data type but rand assigns float number from 0 to 1"
   ]
  },
  {
   "cell_type": "markdown",
   "metadata": {
    "id": "CcwhzkAiXXcN"
   },
   "source": [
    "## Tensor Data Types"
   ]
  },
  {
   "cell_type": "code",
   "execution_count": null,
   "metadata": {
    "colab": {
     "base_uri": "https://localhost:8080/"
    },
    "executionInfo": {
     "elapsed": 24,
     "status": "ok",
     "timestamp": 1750270510646,
     "user": {
      "displayName": "Vedant Pahariya",
      "userId": "04527001966652937994"
     },
     "user_tz": -330
    },
    "id": "1Z3NoJCFXQlV",
    "outputId": "55ec362b-6e58-4390-8749-8c50e25f3363"
   },
   "outputs": [
    {
     "data": {
      "text/plain": [
       "torch.int64"
      ]
     },
     "execution_count": 16,
     "metadata": {},
     "output_type": "execute_result"
    }
   ],
   "source": [
    "x.dtype"
   ]
  },
  {
   "cell_type": "code",
   "execution_count": null,
   "metadata": {
    "colab": {
     "base_uri": "https://localhost:8080/"
    },
    "executionInfo": {
     "elapsed": 30,
     "status": "ok",
     "timestamp": 1750270510689,
     "user": {
      "displayName": "Vedant Pahariya",
      "userId": "04527001966652937994"
     },
     "user_tz": -330
    },
    "id": "MKzrflpnXU7u",
    "outputId": "ac07947a-c141-41cb-bc5d-3cefea8b8b0e"
   },
   "outputs": [
    {
     "data": {
      "text/plain": [
       "tensor([1, 2, 3], dtype=torch.int32)"
      ]
     },
     "execution_count": 17,
     "metadata": {},
     "output_type": "execute_result"
    }
   ],
   "source": [
    "torch.tensor([1.0,2.0,3.0], dtype=torch.int32)"
   ]
  },
  {
   "cell_type": "code",
   "execution_count": null,
   "metadata": {
    "colab": {
     "base_uri": "https://localhost:8080/"
    },
    "executionInfo": {
     "elapsed": 37,
     "status": "ok",
     "timestamp": 1750270510730,
     "user": {
      "displayName": "Vedant Pahariya",
      "userId": "04527001966652937994"
     },
     "user_tz": -330
    },
    "id": "RpM5krrgYrUv",
    "outputId": "e29be543-ae2a-49ac-bd3b-202d713ec1dd"
   },
   "outputs": [
    {
     "data": {
      "text/plain": [
       "tensor([1., 2., 3.], dtype=torch.float64)"
      ]
     },
     "execution_count": 18,
     "metadata": {},
     "output_type": "execute_result"
    }
   ],
   "source": [
    "torch.tensor([1,2,3], dtype=torch.float64)"
   ]
  },
  {
   "cell_type": "code",
   "execution_count": null,
   "metadata": {
    "id": "glVXMpBdZmK8"
   },
   "outputs": [],
   "source": [
    "x = x.to(torch.float32)"
   ]
  },
  {
   "cell_type": "markdown",
   "metadata": {
    "id": "_V55zApxZ5_9"
   },
   "source": [
    "## Mathematical Operations"
   ]
  },
  {
   "cell_type": "markdown",
   "metadata": {
    "id": "BVjPYioKf3WQ"
   },
   "source": [
    "### Scalar Operation"
   ]
  },
  {
   "cell_type": "code",
   "execution_count": null,
   "metadata": {
    "colab": {
     "base_uri": "https://localhost:8080/"
    },
    "executionInfo": {
     "elapsed": 42,
     "status": "ok",
     "timestamp": 1750270510777,
     "user": {
      "displayName": "Vedant Pahariya",
      "userId": "04527001966652937994"
     },
     "user_tz": -330
    },
    "id": "dAYUgKcTZ9Na",
    "outputId": "7fb56d63-df29-41dc-e4e0-53f4feaa5481"
   },
   "outputs": [
    {
     "data": {
      "text/plain": [
       "tensor([[ 1.,  4.,  9.],\n",
       "        [16., 25., 36.]])"
      ]
     },
     "execution_count": 20,
     "metadata": {},
     "output_type": "execute_result"
    }
   ],
   "source": [
    "# addition\n",
    "x + 2\n",
    "# substraction\n",
    "x - 2\n",
    "# multiplication\n",
    "x * 2\n",
    "# division\n",
    "x / 2\n",
    "# int division\n",
    "(x*100)//3\n",
    "# mod\n",
    "((x*100)//3)%2\n",
    "# power\n",
    "x ** 2"
   ]
  },
  {
   "cell_type": "markdown",
   "metadata": {
    "id": "HbmnIvdMf7en"
   },
   "source": [
    "### Element Wise Operation"
   ]
  },
  {
   "cell_type": "code",
   "execution_count": null,
   "metadata": {
    "colab": {
     "base_uri": "https://localhost:8080/"
    },
    "executionInfo": {
     "elapsed": 35,
     "status": "ok",
     "timestamp": 1750270510817,
     "user": {
      "displayName": "Vedant Pahariya",
      "userId": "04527001966652937994"
     },
     "user_tz": -330
    },
    "id": "IX_5IHvwgOf8",
    "outputId": "e8a8f3a6-3703-4fb8-dd0a-caff33e85809"
   },
   "outputs": [
    {
     "name": "stdout",
     "output_type": "stream",
     "text": [
      "tensor([[0.9063, 0.6598, 0.8157],\n",
      "        [0.9128, 0.5173, 0.5006]])\n",
      "tensor([[0.9304, 0.5470, 0.5882],\n",
      "        [0.6607, 0.9282, 0.4653]])\n"
     ]
    }
   ],
   "source": [
    "\n",
    "a = torch.rand(2,3);\n",
    "b = torch.rand(2,3);\n",
    "\n",
    "print(a)\n",
    "print(b)"
   ]
  },
  {
   "cell_type": "code",
   "execution_count": null,
   "metadata": {
    "colab": {
     "base_uri": "https://localhost:8080/"
    },
    "executionInfo": {
     "elapsed": 52,
     "status": "ok",
     "timestamp": 1750270510879,
     "user": {
      "displayName": "Vedant Pahariya",
      "userId": "04527001966652937994"
     },
     "user_tz": -330
    },
    "id": "PytPBKLKf_mz",
    "outputId": "2714ed06-d0e1-4a57-d233-7cabd86031a6"
   },
   "outputs": [
    {
     "data": {
      "text/plain": [
       "tensor([[0.9063, 0.1127, 0.2275],\n",
       "        [0.2521, 0.5173, 0.0353]])"
      ]
     },
     "execution_count": 22,
     "metadata": {},
     "output_type": "execute_result"
    }
   ],
   "source": [
    " # add\n",
    "a + b\n",
    " # subtract\n",
    "a - b\n",
    " # multiply\n",
    "a * b\n",
    " # divison\n",
    "a / b\n",
    " # power\n",
    "a ** b\n",
    " # mod\n",
    "a % b"
   ]
  },
  {
   "cell_type": "code",
   "execution_count": null,
   "metadata": {
    "id": "074d8WP7h_LR"
   },
   "outputs": [],
   "source": [
    "c = torch.tensor([1,-2,3,-4])"
   ]
  },
  {
   "cell_type": "code",
   "execution_count": null,
   "metadata": {
    "colab": {
     "base_uri": "https://localhost:8080/"
    },
    "executionInfo": {
     "elapsed": 22,
     "status": "ok",
     "timestamp": 1750270510988,
     "user": {
      "displayName": "Vedant Pahariya",
      "userId": "04527001966652937994"
     },
     "user_tz": -330
    },
    "id": "BzoaKUNQiL_A",
    "outputId": "e99d9750-c8be-4dcb-f6a7-9baa0184f34e"
   },
   "outputs": [
    {
     "data": {
      "text/plain": [
       "tensor([1, 2, 3, 4])"
      ]
     },
     "execution_count": 24,
     "metadata": {},
     "output_type": "execute_result"
    }
   ],
   "source": [
    "# abs\n",
    "torch.abs(c)"
   ]
  },
  {
   "cell_type": "code",
   "execution_count": null,
   "metadata": {
    "colab": {
     "base_uri": "https://localhost:8080/"
    },
    "executionInfo": {
     "elapsed": 17,
     "status": "ok",
     "timestamp": 1750270511009,
     "user": {
      "displayName": "Vedant Pahariya",
      "userId": "04527001966652937994"
     },
     "user_tz": -330
    },
    "id": "VGBk13gUibaY",
    "outputId": "e23ed81c-963c-40ea-bca4-dae0af4d22bc"
   },
   "outputs": [
    {
     "data": {
      "text/plain": [
       "tensor([-1,  2, -3,  4])"
      ]
     },
     "execution_count": 25,
     "metadata": {},
     "output_type": "execute_result"
    }
   ],
   "source": [
    "# negative\n",
    "torch.neg(c)"
   ]
  },
  {
   "cell_type": "code",
   "execution_count": null,
   "metadata": {
    "colab": {
     "base_uri": "https://localhost:8080/"
    },
    "executionInfo": {
     "elapsed": 20,
     "status": "ok",
     "timestamp": 1750270511033,
     "user": {
      "displayName": "Vedant Pahariya",
      "userId": "04527001966652937994"
     },
     "user_tz": -330
    },
    "id": "xPnJMR89novw",
    "outputId": "5d7fd000-df8a-44c2-b369-133d3875c0f6"
   },
   "outputs": [
    {
     "name": "stdout",
     "output_type": "stream",
     "text": [
      "tensor([1.0000, 0.2000, 0.8000, 0.4000])\n"
     ]
    }
   ],
   "source": [
    "c= c % 1.1\n",
    "print(c)"
   ]
  },
  {
   "cell_type": "code",
   "execution_count": null,
   "metadata": {
    "colab": {
     "base_uri": "https://localhost:8080/"
    },
    "executionInfo": {
     "elapsed": 21,
     "status": "ok",
     "timestamp": 1750270511061,
     "user": {
      "displayName": "Vedant Pahariya",
      "userId": "04527001966652937994"
     },
     "user_tz": -330
    },
    "id": "aAV4zd3Yik-X",
    "outputId": "037ce587-dcbc-4ad1-fc05-0910e10f7b7b"
   },
   "outputs": [
    {
     "data": {
      "text/plain": [
       "tensor([1., 0., 1., 0.])"
      ]
     },
     "execution_count": 27,
     "metadata": {},
     "output_type": "execute_result"
    }
   ],
   "source": [
    "# round\n",
    "torch.round(c)"
   ]
  },
  {
   "cell_type": "code",
   "execution_count": null,
   "metadata": {
    "colab": {
     "base_uri": "https://localhost:8080/"
    },
    "executionInfo": {
     "elapsed": 15,
     "status": "ok",
     "timestamp": 1750270511080,
     "user": {
      "displayName": "Vedant Pahariya",
      "userId": "04527001966652937994"
     },
     "user_tz": -330
    },
    "id": "IDyhsErrozei",
    "outputId": "1d856f88-c70d-4360-c463-b85bd8665389"
   },
   "outputs": [
    {
     "data": {
      "text/plain": [
       "tensor([1., 1., 1., 1.])"
      ]
     },
     "execution_count": 28,
     "metadata": {},
     "output_type": "execute_result"
    }
   ],
   "source": [
    "torch.ceil(c)"
   ]
  },
  {
   "cell_type": "code",
   "execution_count": null,
   "metadata": {
    "colab": {
     "base_uri": "https://localhost:8080/"
    },
    "executionInfo": {
     "elapsed": 12,
     "status": "ok",
     "timestamp": 1750270511098,
     "user": {
      "displayName": "Vedant Pahariya",
      "userId": "04527001966652937994"
     },
     "user_tz": -330
    },
    "id": "129o1lYdo6dO",
    "outputId": "55fc42f6-67b6-45e2-9c11-31735a55e76d"
   },
   "outputs": [
    {
     "data": {
      "text/plain": [
       "tensor([1., 0., 0., 0.])"
      ]
     },
     "execution_count": 29,
     "metadata": {},
     "output_type": "execute_result"
    }
   ],
   "source": [
    "torch.floor(c)"
   ]
  },
  {
   "cell_type": "code",
   "execution_count": null,
   "metadata": {
    "colab": {
     "base_uri": "https://localhost:8080/"
    },
    "executionInfo": {
     "elapsed": 14,
     "status": "ok",
     "timestamp": 1750270511117,
     "user": {
      "displayName": "Vedant Pahariya",
      "userId": "04527001966652937994"
     },
     "user_tz": -330
    },
    "id": "l3drEyLPpnWv",
    "outputId": "6eed46d8-7438-4553-cb5d-a7d7bf908047"
   },
   "outputs": [
    {
     "data": {
      "text/plain": [
       "tensor([2., 2., 2., 2.])"
      ]
     },
     "execution_count": 30,
     "metadata": {},
     "output_type": "execute_result"
    }
   ],
   "source": [
    "# clamp adjust all the numbers in tensor between the given range\n",
    "torch.clamp(c, min=2, max=3)\n",
    "# Here, numbers below 2 will become 2 and numbers more than 3 will become 3"
   ]
  },
  {
   "cell_type": "markdown",
   "metadata": {
    "id": "T2hA_6Kuq5Ej"
   },
   "source": [
    "## Reduction Operation"
   ]
  },
  {
   "cell_type": "code",
   "execution_count": null,
   "metadata": {
    "colab": {
     "base_uri": "https://localhost:8080/"
    },
    "executionInfo": {
     "elapsed": 13,
     "status": "ok",
     "timestamp": 1750270511135,
     "user": {
      "displayName": "Vedant Pahariya",
      "userId": "04527001966652937994"
     },
     "user_tz": -330
    },
    "id": "BIWw9zp0q-R-",
    "outputId": "8473334f-0be5-4ac8-bc76-e8da837fa67e"
   },
   "outputs": [
    {
     "data": {
      "text/plain": [
       "tensor([[8., 2., 4.],\n",
       "        [6., 8., 6.]])"
      ]
     },
     "execution_count": 31,
     "metadata": {},
     "output_type": "execute_result"
    }
   ],
   "source": [
    "torch.manual_seed(13) # for removing randomization\n",
    "e = torch.randint(size= (2,3) , low=0, high=10, dtype= torch.float32)\n",
    "e"
   ]
  },
  {
   "cell_type": "code",
   "execution_count": null,
   "metadata": {
    "colab": {
     "base_uri": "https://localhost:8080/"
    },
    "executionInfo": {
     "elapsed": 19,
     "status": "ok",
     "timestamp": 1750270511158,
     "user": {
      "displayName": "Vedant Pahariya",
      "userId": "04527001966652937994"
     },
     "user_tz": -330
    },
    "id": "3_5D8HUysyrj",
    "outputId": "d4324a9a-40cc-4b69-e3aa-756a51e455a9"
   },
   "outputs": [
    {
     "data": {
      "text/plain": [
       "tensor([14., 20.])"
      ]
     },
     "execution_count": 32,
     "metadata": {},
     "output_type": "execute_result"
    }
   ],
   "source": [
    "# sum\n",
    "torch.sum(e)\n",
    "# sum along columns\n",
    "torch.sum(e, dim=0)\n",
    "# sum along rows\n",
    "torch.sum(e, dim=1)"
   ]
  },
  {
   "cell_type": "code",
   "execution_count": null,
   "metadata": {
    "colab": {
     "base_uri": "https://localhost:8080/"
    },
    "executionInfo": {
     "elapsed": 261,
     "status": "ok",
     "timestamp": 1750270511422,
     "user": {
      "displayName": "Vedant Pahariya",
      "userId": "04527001966652937994"
     },
     "user_tz": -330
    },
    "id": "95PG6wp1t786",
    "outputId": "25123458-1c56-42b7-bcd1-9d1e8b26f167"
   },
   "outputs": [
    {
     "data": {
      "text/plain": [
       "tensor([4.6667, 6.6667])"
      ]
     },
     "execution_count": 33,
     "metadata": {},
     "output_type": "execute_result"
    }
   ],
   "source": [
    "# mean\n",
    "torch.mean(e)\n",
    "# mean along columns\n",
    "torch.mean(e, dim=0)\n",
    "# mean along rows\n",
    "torch.mean(e, dim=1)"
   ]
  },
  {
   "cell_type": "code",
   "execution_count": null,
   "metadata": {
    "colab": {
     "base_uri": "https://localhost:8080/"
    },
    "executionInfo": {
     "elapsed": 18,
     "status": "ok",
     "timestamp": 1750270511449,
     "user": {
      "displayName": "Vedant Pahariya",
      "userId": "04527001966652937994"
     },
     "user_tz": -330
    },
    "id": "SiU4s8JmupDo",
    "outputId": "497fd0ef-db33-4330-e15a-977e740d1820"
   },
   "outputs": [
    {
     "data": {
      "text/plain": [
       "torch.return_types.median(\n",
       "values=tensor([4., 6.]),\n",
       "indices=tensor([2, 2]))"
      ]
     },
     "execution_count": 34,
     "metadata": {},
     "output_type": "execute_result"
    }
   ],
   "source": [
    "# median\n",
    "torch.median(e)\n",
    "# median along columns\n",
    "torch.median(e, dim=0)\n",
    "# median along rows\n",
    "torch.median(e, dim=1)"
   ]
  },
  {
   "cell_type": "markdown",
   "metadata": {
    "id": "tzOslbH9w5kZ"
   },
   "source": [
    "Putting underscore after the functions name make it inplace operation."
   ]
  },
  {
   "cell_type": "markdown",
   "metadata": {
    "id": "HO3CkT64xePs"
   },
   "source": [
    "## Copying the Tensor"
   ]
  },
  {
   "cell_type": "code",
   "execution_count": null,
   "metadata": {
    "colab": {
     "base_uri": "https://localhost:8080/"
    },
    "executionInfo": {
     "elapsed": 19,
     "status": "ok",
     "timestamp": 1750270511511,
     "user": {
      "displayName": "Vedant Pahariya",
      "userId": "04527001966652937994"
     },
     "user_tz": -330
    },
    "id": "auv7uyE6xiW2",
    "outputId": "17b64a19-bafb-471e-9fb9-d3cc0672433f"
   },
   "outputs": [
    {
     "data": {
      "text/plain": [
       "tensor([[6, 9, 4],\n",
       "        [8, 7, 6]])"
      ]
     },
     "execution_count": 35,
     "metadata": {},
     "output_type": "execute_result"
    }
   ],
   "source": [
    "k= torch.randint(size=(2,3), low =0, high = 10)\n",
    "k"
   ]
  },
  {
   "cell_type": "markdown",
   "metadata": {
    "id": "Ox5-9KlhyXZc"
   },
   "source": [
    "b= k will make the copy of k in b but if k is changed, b will also change becuase they will have same memory location due to assignment operation. To avoid this we use 'clone' function"
   ]
  },
  {
   "cell_type": "code",
   "execution_count": null,
   "metadata": {
    "colab": {
     "base_uri": "https://localhost:8080/"
    },
    "executionInfo": {
     "elapsed": 13,
     "status": "ok",
     "timestamp": 1750270511529,
     "user": {
      "displayName": "Vedant Pahariya",
      "userId": "04527001966652937994"
     },
     "user_tz": -330
    },
    "id": "zBRfKGbByvi6",
    "outputId": "3140b905-e00b-43fb-b052-37706b88adda"
   },
   "outputs": [
    {
     "name": "stdout",
     "output_type": "stream",
     "text": [
      "132769065902224\n",
      "132769066197328\n"
     ]
    }
   ],
   "source": [
    "b= a.clone()\n",
    "print(id(a))\n",
    "print(id(b))"
   ]
  },
  {
   "cell_type": "markdown",
   "metadata": {
    "id": "I4_w8sewQL52"
   },
   "source": [
    "## Tensor Operations on GPU"
   ]
  },
  {
   "cell_type": "code",
   "execution_count": null,
   "metadata": {
    "colab": {
     "base_uri": "https://localhost:8080/"
    },
    "executionInfo": {
     "elapsed": 26,
     "status": "ok",
     "timestamp": 1750270562675,
     "user": {
      "displayName": "Vedant Pahariya",
      "userId": "04527001966652937994"
     },
     "user_tz": -330
    },
    "id": "ogArHUiNQPc-",
    "outputId": "08aebbef-4832-4a86-d709-2ef35e61c501"
   },
   "outputs": [
    {
     "data": {
      "text/plain": [
       "False"
      ]
     },
     "execution_count": 37,
     "metadata": {},
     "output_type": "execute_result"
    }
   ],
   "source": [
    "torch.cuda.is_available()"
   ]
  },
  {
   "cell_type": "code",
   "execution_count": null,
   "metadata": {
    "id": "NCky4xo2QWUd"
   },
   "outputs": [],
   "source": [
    "device = torch.device(\"cuda\" if torch.cuda.is_available() else \"cpu\")"
   ]
  },
  {
   "cell_type": "code",
   "execution_count": null,
   "metadata": {
    "colab": {
     "base_uri": "https://localhost:8080/"
    },
    "executionInfo": {
     "elapsed": 104,
     "status": "ok",
     "timestamp": 1750273524442,
     "user": {
      "displayName": "Vedant Pahariya",
      "userId": "04527001966652937994"
     },
     "user_tz": -330
    },
    "id": "mGM_KcG_QmZr",
    "outputId": "57dc9c4d-ea4f-41a1-aad8-e12c41994341"
   },
   "outputs": [
    {
     "data": {
      "text/plain": [
       "tensor([[0.9149, 0.4799, 0.5348],\n",
       "        [0.2695, 0.2530, 0.3390]])"
      ]
     },
     "execution_count": 42,
     "metadata": {},
     "output_type": "execute_result"
    }
   ],
   "source": [
    "# creating a new tensor on GPU\n",
    "torch.rand((2,3), device = device)"
   ]
  },
  {
   "cell_type": "code",
   "execution_count": null,
   "metadata": {
    "id": "cvhRPcfobpEy"
   },
   "outputs": [],
   "source": [
    "# moving the existing tensor to GPU\n",
    "a = torch.rand((2,3))\n",
    "a"
   ]
  },
  {
   "cell_type": "code",
   "execution_count": null,
   "metadata": {
    "colab": {
     "base_uri": "https://localhost:8080/"
    },
    "executionInfo": {
     "elapsed": 12,
     "status": "ok",
     "timestamp": 1750274041471,
     "user": {
      "displayName": "Vedant Pahariya",
      "userId": "04527001966652937994"
     },
     "user_tz": -330
    },
    "id": "Y8IuIBM2ccVo",
    "outputId": "e107594a-6aaf-4bfa-8d13-eb21def87f6a"
   },
   "outputs": [
    {
     "data": {
      "text/plain": [
       "tensor([[6., 6., 6., 6.],\n",
       "        [6., 6., 6., 6.],\n",
       "        [6., 6., 6., 6.],\n",
       "        [6., 6., 6., 6.]])"
      ]
     },
     "execution_count": 44,
     "metadata": {},
     "output_type": "execute_result"
    }
   ],
   "source": [
    "b = a.to(device)\n",
    "b+5"
   ]
  },
  {
   "cell_type": "markdown",
   "metadata": {
    "id": "w_tOyCDPVmhH"
   },
   "source": [
    "## Reshaping Tensors"
   ]
  },
  {
   "cell_type": "code",
   "execution_count": null,
   "metadata": {
    "colab": {
     "base_uri": "https://localhost:8080/"
    },
    "executionInfo": {
     "elapsed": 61,
     "status": "ok",
     "timestamp": 1750272499497,
     "user": {
      "displayName": "Vedant Pahariya",
      "userId": "04527001966652937994"
     },
     "user_tz": -330
    },
    "id": "S7JR25BHVrkB",
    "outputId": "2033458d-2149-400f-9f23-87945bb94e40"
   },
   "outputs": [
    {
     "data": {
      "text/plain": [
       "tensor([[1., 1., 1., 1.],\n",
       "        [1., 1., 1., 1.],\n",
       "        [1., 1., 1., 1.],\n",
       "        [1., 1., 1., 1.]])"
      ]
     },
     "execution_count": 39,
     "metadata": {},
     "output_type": "execute_result"
    }
   ],
   "source": [
    "a= torch.ones(4,4)\n",
    "a"
   ]
  },
  {
   "cell_type": "code",
   "execution_count": null,
   "metadata": {
    "colab": {
     "base_uri": "https://localhost:8080/"
    },
    "executionInfo": {
     "elapsed": 67,
     "status": "ok",
     "timestamp": 1750272583649,
     "user": {
      "displayName": "Vedant Pahariya",
      "userId": "04527001966652937994"
     },
     "user_tz": -330
    },
    "id": "dCu2yYaTXvg0",
    "outputId": "58bc5711-9a5d-486c-cf4c-33f18c2bcbb0"
   },
   "outputs": [
    {
     "data": {
      "text/plain": [
       "tensor([[[[1., 1.],\n",
       "          [1., 1.]],\n",
       "\n",
       "         [[1., 1.],\n",
       "          [1., 1.]]],\n",
       "\n",
       "\n",
       "        [[[1., 1.],\n",
       "          [1., 1.]],\n",
       "\n",
       "         [[1., 1.],\n",
       "          [1., 1.]]]])"
      ]
     },
     "execution_count": 40,
     "metadata": {},
     "output_type": "execute_result"
    }
   ],
   "source": [
    "# Reshape\n",
    "a.reshape(2,2,2,2)"
   ]
  },
  {
   "cell_type": "code",
   "execution_count": null,
   "metadata": {
    "colab": {
     "base_uri": "https://localhost:8080/"
    },
    "executionInfo": {
     "elapsed": 67,
     "status": "ok",
     "timestamp": 1750272694427,
     "user": {
      "displayName": "Vedant Pahariya",
      "userId": "04527001966652937994"
     },
     "user_tz": -330
    },
    "id": "0u5UmAILYHS4",
    "outputId": "d444f1d7-f502-4035-ee53-ae37fcb74103"
   },
   "outputs": [
    {
     "data": {
      "text/plain": [
       "tensor([1., 1., 1., 1., 1., 1., 1., 1., 1., 1., 1., 1., 1., 1., 1., 1.])"
      ]
     },
     "execution_count": 41,
     "metadata": {},
     "output_type": "execute_result"
    }
   ],
   "source": [
    "# flatten\n",
    "a.flatten()"
   ]
  }
 ],
 "metadata": {
  "colab": {
   "authorship_tag": "ABX9TyNWdImdWXujTFi7zMrdiT51",
   "provenance": []
  },
  "kernelspec": {
   "display_name": "Python 3",
   "name": "python3"
  },
  "language_info": {
   "name": "python"
  }
 },
 "nbformat": 4,
 "nbformat_minor": 0
}
