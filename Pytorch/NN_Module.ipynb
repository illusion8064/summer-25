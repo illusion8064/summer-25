{
  "cells": [
    {
      "cell_type": "markdown",
      "metadata": {},
      "source": [
        "Here, we are exploring about the Neural Network inbuilt module in PyTorch called NN module. This module provides a high-level interface for building neural networks, making it easier to define and train models."
      ]
    },
    {
      "cell_type": "markdown",
      "metadata": {
        "id": "PsVwazACxFMN"
      },
      "source": [
        "## NN Model-1"
      ]
    },
    {
      "cell_type": "code",
      "execution_count": null,
      "metadata": {
        "id": "xSkwnPudikZ-"
      },
      "outputs": [],
      "source": [
        "# create model class\n",
        "import torch\n",
        "import torch.nn as nn\n",
        "\n",
        "class Model (nn.Module):\n",
        "  def __init__(self, features):\n",
        "    super().__init__()\n",
        "    self.linear = nn.Linear(features, 1)\n",
        "    # This generates single neuron which has features as the no. of inputs and 1 as the no. of output\n",
        "\n",
        "    self.sigmoid = nn.Sigmoid()\n",
        "    # This is the Sigmoid activation function for the neuron\n",
        "\n",
        "  def forward(self, features):\n",
        "    out = self.linear(features)\n",
        "    out = self.sigmoid(out)\n",
        "    return out"
      ]
    },
    {
      "cell_type": "code",
      "execution_count": null,
      "metadata": {
        "colab": {
          "base_uri": "https://localhost:8080/"
        },
        "id": "gGPeRgo3i0s5",
        "outputId": "bc9382f6-23fd-4bf6-f4ec-8072650cb016"
      },
      "outputs": [
        {
          "data": {
            "text/plain": [
              "tensor([[0.4297],\n",
              "        [0.4272],\n",
              "        [0.4251],\n",
              "        [0.4431],\n",
              "        [0.4283],\n",
              "        [0.4306],\n",
              "        [0.4436],\n",
              "        [0.4268],\n",
              "        [0.4557],\n",
              "        [0.4222]], grad_fn=<SigmoidBackward0>)"
            ]
          },
          "execution_count": 24,
          "metadata": {},
          "output_type": "execute_result"
        }
      ],
      "source": [
        "# create dataset\n",
        "features = torch.rand(10,5)\n",
        "# Creates a matrix of 10 rows and 5 columns with random values between 0 and 1\n",
        "\n",
        "# create model\n",
        "model = Model(features.shape[1])\n",
        "\n",
        "# forward pass\n",
        "model(features)\n",
        "# This is same as doing model.forward(features)"
      ]
    },
    {
      "cell_type": "code",
      "execution_count": null,
      "metadata": {
        "colab": {
          "base_uri": "https://localhost:8080/"
        },
        "id": "4JfJ8_aDkhLJ",
        "outputId": "d265af7a-1cff-4e31-b299-68d0e3ec4d1f"
      },
      "outputs": [
        {
          "data": {
            "text/plain": [
              "Parameter containing:\n",
              "tensor([-0.2576], requires_grad=True)"
            ]
          },
          "execution_count": 25,
          "metadata": {},
          "output_type": "execute_result"
        }
      ],
      "source": [
        "model.linear.weight\n",
        "model.linear.bias"
      ]
    },
    {
      "cell_type": "code",
      "execution_count": null,
      "metadata": {
        "colab": {
          "base_uri": "https://localhost:8080/"
        },
        "id": "kEdocxQBkg_7",
        "outputId": "6ee5ff91-5d93-4aaf-bf4d-73858b903360"
      },
      "outputs": [
        {
          "name": "stdout",
          "output_type": "stream",
          "text": [
            "Requirement already satisfied: torchinfo in /usr/local/lib/python3.11/dist-packages (1.8.0)\n"
          ]
        }
      ],
      "source": [
        "!pip install torchinfo"
      ]
    },
    {
      "cell_type": "code",
      "execution_count": null,
      "metadata": {
        "colab": {
          "base_uri": "https://localhost:8080/"
        },
        "id": "fneC_YJak6vC",
        "outputId": "f36349ef-8a9f-409e-93ac-7b212b9425b9"
      },
      "outputs": [
        {
          "data": {
            "text/plain": [
              "==========================================================================================\n",
              "Layer (type:depth-idx)                   Output Shape              Param #\n",
              "==========================================================================================\n",
              "Model                                    [10, 1]                   --\n",
              "├─Linear: 1-1                            [10, 1]                   6\n",
              "├─Sigmoid: 1-2                           [10, 1]                   --\n",
              "==========================================================================================\n",
              "Total params: 6\n",
              "Trainable params: 6\n",
              "Non-trainable params: 0\n",
              "Total mult-adds (Units.MEGABYTES): 0.00\n",
              "==========================================================================================\n",
              "Input size (MB): 0.00\n",
              "Forward/backward pass size (MB): 0.00\n",
              "Params size (MB): 0.00\n",
              "Estimated Total Size (MB): 0.00\n",
              "=========================================================================================="
            ]
          },
          "execution_count": 27,
          "metadata": {},
          "output_type": "execute_result"
        }
      ],
      "source": [
        "from torchinfo import summary\n",
        "summary(model, input_size= (10,5))"
      ]
    },
    {
      "cell_type": "markdown",
      "metadata": {
        "id": "xj-ObpQbv4aK"
      },
      "source": [
        "## NN Model-2"
      ]
    },
    {
      "cell_type": "code",
      "execution_count": null,
      "metadata": {
        "id": "lao5fCwJv7tK"
      },
      "outputs": [],
      "source": [
        "class Model2(nn.Module):\n",
        "\n",
        "  def __init__(self, features):\n",
        "    super().__init__()\n",
        "    self.linear = nn.Linear(features, 3)\n",
        "    self.relu = nn.ReLU()\n",
        "    self.linear2 = nn.Linear(3, 1)\n",
        "    self.sigmoid = nn.Sigmoid()\n",
        "\n",
        "  def forward(self,features):\n",
        "    out = self.linear(features)\n",
        "    out = self.relu(out)\n",
        "    out = self.linear2(out)\n",
        "    out = self.sigmoid(out)\n",
        "    return out"
      ]
    },
    {
      "cell_type": "markdown",
      "metadata": {
        "id": "tNPNmMoOxU1K"
      },
      "source": [
        "We can make a sequential network for ease of code as well. This will make our job easier."
      ]
    },
    {
      "cell_type": "code",
      "execution_count": null,
      "metadata": {
        "id": "RonVcor1xTFA"
      },
      "outputs": [],
      "source": [
        "class Model3(nn.Module):\n",
        "\n",
        "  def __init__(self, features):\n",
        "    super().__init__()\n",
        "    self.network = nn.sequential(\n",
        "        nn.Linear(features, 3),\n",
        "        nn.ReLU(),\n",
        "        nn.Linear(3, 1),\n",
        "        nn.Sigmoid()\n",
        "        )\n",
        "\n",
        "  def forward(self,features):\n",
        "    out = self.network(features)\n",
        "    return out"
      ]
    },
    {
      "cell_type": "markdown",
      "metadata": {
        "id": "b8QYAjHV0YKQ"
      },
      "source": [
        "Loss Functions can be defined in one line as well using the following syntax instead by the whole function like we did in 1st NN."
      ]
    },
    {
      "cell_type": "code",
      "execution_count": null,
      "metadata": {
        "id": "NrmL4vBK02QM"
      },
      "outputs": [],
      "source": [
        "loss_function = nn.BCELoss()\n",
        "# Loss_function requests two parameters which are predicted output (y_pred) and actual output (y_train_tensor).\n",
        "# This function is defined outside the class but can be defined inside it as well."
      ]
    },
    {
      "cell_type": "code",
      "execution_count": null,
      "metadata": {
        "id": "tdryh14OdkJs"
      },
      "outputs": [],
      "source": [
        "# create model\n",
        "model = MyNN(X_train_tensor.shape[1])"
      ]
    },
    {
      "cell_type": "markdown",
      "metadata": {
        "id": "mK5QC2mh407K"
      },
      "source": [
        "## Optimizer Module in Torch"
      ]
    },
    {
      "cell_type": "code",
      "execution_count": null,
      "metadata": {
        "id": "GxxysQ7n46Yr"
      },
      "outputs": [],
      "source": [
        "# Defining the optimizer\n",
        "optimizer = torch.optim.SGD(model.parameters(), lr = 0.01)\n",
        "# model.parameters can access all the weights and biases in the model through a loop\n",
        "# lr is the training rate"
      ]
    },
    {
      "cell_type": "markdown",
      "metadata": {
        "id": "RktwbIKJ8Tga"
      },
      "source": [
        "Using optimizer, we can clear the gradients and update the parameters like as shown below. It is good practice to clear the gradients before backward pass."
      ]
    },
    {
      "cell_type": "code",
      "execution_count": null,
      "metadata": {
        "id": "IQefDfre8on5"
      },
      "outputs": [],
      "source": [
        "optimizer.zero_grad()\n",
        "# It clears the gradients and make them zero.\n",
        "\n",
        "optimizer.step()\n",
        "# updates the weight and bias parameters"
      ]
    }
  ],
  "metadata": {
    "colab": {
      "provenance": []
    },
    "kernelspec": {
      "display_name": "Python 3",
      "name": "python3"
    },
    "language_info": {
      "name": "python"
    }
  },
  "nbformat": 4,
  "nbformat_minor": 0
}
