{
 "cells": [
  {
   "cell_type": "markdown",
   "metadata": {},
   "source": [
    "Introduction to Autograd\n",
    "========================\n",
    "Here we explored the autograd feature of PyTorch, which is used for automatic differentiation. This is particularly useful for training neural networks, as it allows us to compute gradients automatically without having to manually derive them."
   ]
  },
  {
   "cell_type": "code",
   "execution_count": null,
   "metadata": {
    "executionInfo": {
     "elapsed": 2,
     "status": "ok",
     "timestamp": 1750399575278,
     "user": {
      "displayName": "Vedant Pahariya",
      "userId": "04527001966652937994"
     },
     "user_tz": -330
    },
    "id": "9z7U_udmStGF"
   },
   "outputs": [],
   "source": [
    "import torch"
   ]
  },
  {
   "cell_type": "code",
   "execution_count": 59,
   "metadata": {
    "executionInfo": {
     "elapsed": 10,
     "status": "ok",
     "timestamp": 1750399575319,
     "user": {
      "displayName": "Vedant Pahariya",
      "userId": "04527001966652937994"
     },
     "user_tz": -330
    },
    "id": "2TBHf5_m7a5x"
   },
   "outputs": [],
   "source": [
    "x = torch.tensor(3.0, requires_grad=True)\n"
   ]
  },
  {
   "cell_type": "code",
   "execution_count": 66,
   "metadata": {
    "executionInfo": {
     "elapsed": 3,
     "status": "ok",
     "timestamp": 1750399577307,
     "user": {
      "displayName": "Vedant Pahariya",
      "userId": "04527001966652937994"
     },
     "user_tz": -330
    },
    "id": "e5o8Nt9_7ogu"
   },
   "outputs": [],
   "source": [
    "y = x**2\n"
   ]
  },
  {
   "cell_type": "code",
   "execution_count": 67,
   "metadata": {
    "colab": {
     "base_uri": "https://localhost:8080/"
    },
    "executionInfo": {
     "elapsed": 14,
     "status": "ok",
     "timestamp": 1750399578484,
     "user": {
      "displayName": "Vedant Pahariya",
      "userId": "04527001966652937994"
     },
     "user_tz": -330
    },
    "id": "utTzrI4W7oY7",
    "outputId": "0277580b-da3f-4810-e042-c5ab9dceb19d"
   },
   "outputs": [
    {
     "name": "stdout",
     "output_type": "stream",
     "text": [
      "tensor(3., requires_grad=True)\n",
      "tensor(9., grad_fn=<PowBackward0>)\n"
     ]
    }
   ],
   "source": [
    "print(x);\n",
    "print(y);\n",
    "# PowBackward0 means that y comes by squaring the previous terms"
   ]
  },
  {
   "cell_type": "code",
   "execution_count": 68,
   "metadata": {
    "colab": {
     "base_uri": "https://localhost:8080/"
    },
    "executionInfo": {
     "elapsed": 12,
     "status": "ok",
     "timestamp": 1750399579393,
     "user": {
      "displayName": "Vedant Pahariya",
      "userId": "04527001966652937994"
     },
     "user_tz": -330
    },
    "id": "wMi6ngx7Ccoh",
    "outputId": "ab1a3d6c-68c7-440a-a501-3fb91fcc849e"
   },
   "outputs": [
    {
     "data": {
      "text/plain": [
       "tensor(0.5332)"
      ]
     },
     "execution_count": 68,
     "metadata": {},
     "output_type": "execute_result"
    }
   ],
   "source": [
    "y.backward();\n",
    "x.grad\n",
    "# derivative of x**2 is 2x (6 at x=3)"
   ]
  },
  {
   "cell_type": "code",
   "execution_count": 76,
   "metadata": {
    "executionInfo": {
     "elapsed": 39,
     "status": "ok",
     "timestamp": 1750400040116,
     "user": {
      "displayName": "Vedant Pahariya",
      "userId": "04527001966652937994"
     },
     "user_tz": -330
    },
    "id": "3oU59akMDFcg"
   },
   "outputs": [],
   "source": [
    "x.grad.zero_() # underscore is for inplace operation\n",
    "x = torch.tensor(3.0, requires_grad=True)\n",
    "y= x**2\n",
    "import math\n",
    "z= torch.sin(y)"
   ]
  },
  {
   "cell_type": "code",
   "execution_count": 74,
   "metadata": {
    "colab": {
     "base_uri": "https://localhost:8080/"
    },
    "executionInfo": {
     "elapsed": 22,
     "status": "ok",
     "timestamp": 1750399595442,
     "user": {
      "displayName": "Vedant Pahariya",
      "userId": "04527001966652937994"
     },
     "user_tz": -330
    },
    "id": "WN6iq0keDn-b",
    "outputId": "81dd1c06-4db1-4229-9629-5114b6061f70"
   },
   "outputs": [
    {
     "name": "stdout",
     "output_type": "stream",
     "text": [
      "tensor(3., requires_grad=True)\n",
      "tensor(9., grad_fn=<PowBackward0>)\n",
      "tensor(0.4121, grad_fn=<SinBackward0>)\n"
     ]
    }
   ],
   "source": [
    "print(x)\n",
    "print(y)\n",
    "print(z)"
   ]
  },
  {
   "cell_type": "code",
   "execution_count": 75,
   "metadata": {
    "colab": {
     "base_uri": "https://localhost:8080/"
    },
    "executionInfo": {
     "elapsed": 14,
     "status": "ok",
     "timestamp": 1750399596195,
     "user": {
      "displayName": "Vedant Pahariya",
      "userId": "04527001966652937994"
     },
     "user_tz": -330
    },
    "id": "Iuavg1ILDuXo",
    "outputId": "642f150d-aa7d-486e-a5bb-25c5c8acaa4e"
   },
   "outputs": [
    {
     "data": {
      "text/plain": [
       "tensor(-5.4668)"
      ]
     },
     "execution_count": 75,
     "metadata": {},
     "output_type": "execute_result"
    }
   ],
   "source": [
    "z.backward();\n",
    "x.grad"
   ]
  }
 ],
 "metadata": {
  "colab": {
   "authorship_tag": "ABX9TyOgg0PWM3qtP0uWsxh1NHT/",
   "provenance": []
  },
  "kernelspec": {
   "display_name": "MachineLearning",
   "language": "python",
   "name": "python3"
  },
  "language_info": {
   "codemirror_mode": {
    "name": "ipython",
    "version": 3
   },
   "file_extension": ".py",
   "mimetype": "text/x-python",
   "name": "python",
   "nbconvert_exporter": "python",
   "pygments_lexer": "ipython3",
   "version": "3.12.3"
  }
 },
 "nbformat": 4,
 "nbformat_minor": 0
}
